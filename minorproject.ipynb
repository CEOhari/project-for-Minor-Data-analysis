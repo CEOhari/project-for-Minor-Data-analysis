{
  "nbformat": 4,
  "nbformat_minor": 0,
  "metadata": {
    "colab": {
      "provenance": []
    },
    "kernelspec": {
      "name": "python3",
      "display_name": "Python 3"
    },
    "language_info": {
      "name": "python"
    }
  },
  "cells": [
    {
      "cell_type": "markdown",
      "source": [
        "# Capstone Project 1: Working with Numpy Matrices (Multidimensional Data)\n",
        "This project involves analyzing body measurements from the NHANES dataset for adult males and females. We will explore various statistical methods to compare the distributions, correlations, and standardizations of these measurements.\n"
      ],
      "metadata": {
        "id": "3R1ZhCe3ImS8"
      }
    },
    {
      "cell_type": "markdown",
      "source": [
        "2. Import Libraries\n",
        "Start by importing the necessary libraries such as numpy, pandas, and matplotlib."
      ],
      "metadata": {
        "id": "dHHmENWYIuHy"
      }
    },
    {
      "cell_type": "code",
      "source": [
        "import numpy as np\n",
        "import pandas as pd\n",
        "import matplotlib.pyplot as plt\n",
        "import seaborn as sns\n",
        "\n",
        "# Set seaborn style for better visuals\n",
        "sns.set(style=\"whitegrid\")\n"
      ],
      "metadata": {
        "id": "Fq5MYo6_Iv3X"
      },
      "execution_count": null,
      "outputs": []
    },
    {
      "cell_type": "markdown",
      "source": [
        "3. Load the Data\n",
        "Load the two datasets (nhanes_adult_male_bmx_2020.csv and nhanes_adult_female_bmx_2020.csv) into numpy matrices."
      ],
      "metadata": {
        "id": "4Hprr3yNIzYl"
      }
    },
    {
      "cell_type": "code",
      "source": [
        "# Load the datasets\n",
        "male_df = pd.read_csv('nhanes_adult_male_bmx_2020.csv')\n",
        "female_df = pd.read_csv('nhanes_adult_female_bmx_2020.csv')\n",
        "\n",
        "# Convert to numpy matrices\n",
        "male = male_df.to_numpy()\n",
        "female = female_df.to_numpy()\n",
        "\n",
        "# Display the first few rows to check the data\n",
        "male[:5], female[:5]\n"
      ],
      "metadata": {
        "id": "kSwQUA-II2QU"
      },
      "execution_count": null,
      "outputs": []
    },
    {
      "cell_type": "markdown",
      "source": [
        "4. Plot Histograms of Weights\n",
        "Create a subplot with two histograms to visualize the distribution of weights for males and females."
      ],
      "metadata": {
        "id": "iIEfypzsI6Ms"
      }
    },
    {
      "cell_type": "code",
      "source": [
        "plt.figure(figsize=(12, 8))\n",
        "\n",
        "# Female weights\n",
        "plt.subplot(2, 1, 1)\n",
        "plt.hist(female[:, 0], bins=20, color='salmon', edgecolor='black')\n",
        "plt.title('Histogram of Female Weights')\n",
        "plt.xlabel('Weight (kg)')\n",
        "plt.ylabel('Frequency')\n",
        "\n",
        "# Male weights\n",
        "plt.subplot(2, 1, 2)\n",
        "plt.hist(male[:, 0], bins=20, color='lightblue', edgecolor='black')\n",
        "plt.title('Histogram of Male Weights')\n",
        "plt.xlabel('Weight (kg)')\n",
        "plt.ylabel('Frequency')\n",
        "\n",
        "# Make x-axis limits identical\n",
        "plt.xlim([40, 160])  # Adjust based on data range\n",
        "\n",
        "plt.tight_layout()\n",
        "plt.show()\n"
      ],
      "metadata": {
        "id": "49VSp-V_I781"
      },
      "execution_count": null,
      "outputs": []
    },
    {
      "cell_type": "markdown",
      "source": [
        "5. Boxplot Comparison of Weights\n",
        "Draw a box-and-whisker plot to compare the distribution of weights between males and females."
      ],
      "metadata": {
        "id": "WtqdEnwoI-r0"
      }
    },
    {
      "cell_type": "code",
      "source": [
        "plt.figure(figsize=(8, 6))\n",
        "\n",
        "# Boxplot for male and female weights\n",
        "plt.boxplot([female[:, 0], male[:, 0]], labels=['Female', 'Male'], patch_artist=True)\n",
        "\n",
        "plt.title('Boxplot of Weights: Male vs Female')\n",
        "plt.ylabel('Weight (kg)')\n",
        "plt.show()"
      ],
      "metadata": {
        "id": "RxQ0boL9JBpT"
      },
      "execution_count": null,
      "outputs": []
    },
    {
      "cell_type": "markdown",
      "source": [
        "6. Compute Basic Numerical Aggregates\n",
        "Calculate and compare the basic numerical aggregates (mean, median, standard deviation, skewness, kurtosis) for male and female weights."
      ],
      "metadata": {
        "id": "7iGL2nbWJGbk"
      }
    },
    {
      "cell_type": "code",
      "source": [
        "from scipy.stats import skew, kurtosis\n",
        "\n",
        "# Compute aggregates\n",
        "def compute_aggregates(data):\n",
        "    return {\n",
        "        'mean': np.mean(data),\n",
        "        'median': np.median(data),\n",
        "        'std': np.std(data),\n",
        "        'skewness': skew(data),\n",
        "        'kurtosis': kurtosis(data)\n",
        "    }\n",
        "\n",
        "female_aggregates = compute_aggregates(female[:, 0])\n",
        "male_aggregates = compute_aggregates(male[:, 0])\n",
        "\n",
        "female_aggregates, male_aggregates\n"
      ],
      "metadata": {
        "id": "T987TeFpJJSr"
      },
      "execution_count": null,
      "outputs": []
    },
    {
      "cell_type": "markdown",
      "source": [
        "7. Add BMI Column to Female Matrix\n",
        "Calculate the BMI and add it as an eighth column to the female matrix."
      ],
      "metadata": {
        "id": "jwYLkUezJOEe"
      }
    },
    {
      "cell_type": "code",
      "source": [
        "# Calculate BMI: weight (kg) / height (m)^2\n",
        "female_bmi = female[:, 0] / (female[:, 1] / 100) ** 2\n",
        "female = np.column_stack((female, female_bmi))\n",
        "\n",
        "female[:5]  # Display the first few rows with the new BMI column\n"
      ],
      "metadata": {
        "id": "AFb9Nl43JP8i"
      },
      "execution_count": null,
      "outputs": []
    },
    {
      "cell_type": "markdown",
      "source": [
        "8. Standardize the Female Dataset\n",
        "Create a standardized version of the female dataset using z-scores."
      ],
      "metadata": {
        "id": "dqTP3NolJR70"
      }
    },
    {
      "cell_type": "code",
      "source": [
        "zfemale = (female - np.mean(female, axis=0)) / np.std(female, axis=0)\n",
        "\n",
        "zfemale[:5]  # Display the first few rows of the standardized dataset\n"
      ],
      "metadata": {
        "id": "e2ZghdP8JUDb"
      },
      "execution_count": null,
      "outputs": []
    },
    {
      "cell_type": "markdown",
      "source": [
        "9. Scatterplot Matrix\n",
        "Draw a scatterplot matrix for the standardized variables (height, weight, waist circumference, hip circumference, and BMI)."
      ],
      "metadata": {
        "id": "V7F5HDfKJV4C"
      }
    },
    {
      "cell_type": "code",
      "source": [
        "# Create a DataFrame for easier plotting\n",
        "zfemale_df = pd.DataFrame(zfemale, columns=['Weight', 'Height', 'Arm Length', 'Leg Length', 'Arm Circumference', 'Hip Circumference', 'Waist Circumference', 'BMI'])\n",
        "\n",
        "# Select columns for the scatterplot matrix\n",
        "sns.pairplot(zfemale_df[['Weight', 'Height', 'Waist Circumference', 'Hip Circumference', 'BMI']])\n",
        "plt.suptitle('Scatterplot Matrix for Standardized Female Measurements', y=1.02)\n",
        "plt.show()\n",
        "\n",
        "# Compute Pearson and Spearman correlations\n",
        "pearson_corr = zfemale_df[['Weight', 'Height', 'Waist Circumference', 'Hip Circumference', 'BMI']].corr(method='pearson')\n",
        "spearman_corr = zfemale_df[['Weight', 'Height', 'Waist Circumference', 'Hip Circumference', 'BMI']].corr(method='spearman')\n",
        "\n",
        "pearson_corr, spearman_corr\n"
      ],
      "metadata": {
        "id": "eg2t59SbJYxM"
      },
      "execution_count": null,
      "outputs": []
    },
    {
      "cell_type": "markdown",
      "source": [
        "10. Waist-to-Height and Waist-to-Hip Ratios\n",
        "Calculate these ratios for both males and females, and add them as additional columns."
      ],
      "metadata": {
        "id": "om4r_evcJbWU"
      }
    },
    {
      "cell_type": "code",
      "source": [
        "# Calculate ratios\n",
        "male_wthr = male[:, 6] / male[:, 1]\n",
        "male_whtr = male[:, 6] / male[:, 5]\n",
        "\n",
        "female_wthr = female[:, 6] / female[:, 1]\n",
        "female_whtr = female[:, 6] / female[:, 5]\n",
        "\n",
        "# Add as new columns\n",
        "male = np.column_stack((male, male_wthr, male_whtr))\n",
        "female = np.column_stack((female, female_wthr, female_whtr))\n",
        "\n",
        "male[:5], female[:5]  # Display first few rows to check new columns\n"
      ],
      "metadata": {
        "id": "fhS2QmyjJeaD"
      },
      "execution_count": null,
      "outputs": []
    },
    {
      "cell_type": "markdown",
      "source": [
        "11. Boxplot for Ratios\n",
        "Draw a boxplot comparing the waist-to-height and waist-to-hip ratios for both males and females."
      ],
      "metadata": {
        "id": "Vdp5LWEuJgQq"
      }
    },
    {
      "cell_type": "code",
      "source": [
        "plt.figure(figsize=(10, 6))\n",
        "\n",
        "# Boxplot for the ratios\n",
        "plt.boxplot([female[:, 8], male[:, 8], female[:, 9], male[:, 9]],\n",
        "            labels=['Female WTHR', 'Male WTHR', 'Female WHtR', 'Male WHtR'],\n",
        "            patch_artist=True)\n",
        "\n",
        "plt.title('Boxplot Comparison: Waist-to-Height and Waist-to-Hip Ratios')\n",
        "plt.ylabel('Ratio')\n",
        "plt.show()\n"
      ],
      "metadata": {
        "id": "akfyVSX7KkTs"
      },
      "execution_count": null,
      "outputs": []
    },
    {
      "cell_type": "markdown",
      "source": [
        "12. Discuss the Results of BMI and Ratios\n",
        "Provide a discussion of the advantages and disadvantages of BMI, waist-to-height ratio, and waist-to-hip ratio."
      ],
      "metadata": {
        "id": "Ma1TKkP6Kmpq"
      }
    },
    {
      "cell_type": "code",
      "source": [
        "### Discussion\n",
        "- **BMI:** A simple and widely used measure but does not account for muscle mass or fat distribution.\n",
        "- **Waist-to-Height Ratio:** Better at predicting cardiovascular risks, especially in diverse populations.\n",
        "- **Waist-to-Hip Ratio:** Reflects fat distribution but might not account for differences in muscle mass.\n"
      ],
      "metadata": {
        "id": "sNVL0CWoKpR7"
      },
      "execution_count": null,
      "outputs": []
    },
    {
      "cell_type": "markdown",
      "source": [
        "13. Standardized Measurements of Extreme BMI Individuals\n",
        "Print the standardized body measurements for the individuals with the lowest and highest BMI."
      ],
      "metadata": {
        "id": "QzlvC_znKsbx"
      }
    },
    {
      "cell_type": "code",
      "source": [
        "# Get indices of the 5 lowest and 5 highest BMI\n",
        "low_bmi_indices = np.argsort(zfemale[:, 7])[:5]\n",
        "high_bmi_indices = np.argsort(zfemale[:, 7])[-5:]\n",
        "\n",
        "# Print standardized measurements\n",
        "print(\"Standardized measurements for the 5 individuals with the lowest BMI:\")\n",
        "print(zfemale[low_bmi_indices])\n",
        "\n",
        "print(\"\\nStandardized measurements for the 5 individuals with the highest BMI:\")\n",
        "print(zfemale[high_bmi_indices])\n"
      ],
      "metadata": {
        "id": "YDYou6TgKv0i"
      },
      "execution_count": null,
      "outputs": []
    },
    {
      "cell_type": "markdown",
      "source": [
        "14. Conclusion"
      ],
      "metadata": {
        "id": "WHD-QUTaKx-x"
      }
    },
    {
      "cell_type": "markdown",
      "source": [
        "# Conclusion\n",
        "This analysis provided a comprehensive comparison of male and female body measurements from the NHANES dataset. We explored different statistical methods, including histograms, boxplots, and scatterplots, to compare distributions and relationships among variables. The results highlighted differences in weight distribution between genders and provided insights into the usefulness of various anthropometric measures.\n"
      ],
      "metadata": {
        "id": "3uDBDINJK3PK"
      }
    }
  ]
}